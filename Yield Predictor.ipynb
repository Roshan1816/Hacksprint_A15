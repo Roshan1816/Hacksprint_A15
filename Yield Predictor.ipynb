{
 "cells": [
  {
   "cell_type": "code",
   "execution_count": 1,
   "id": "db3e6aaa",
   "metadata": {},
   "outputs": [
    {
     "data": {
      "text/html": [
       "<div>\n",
       "<style scoped>\n",
       "    .dataframe tbody tr th:only-of-type {\n",
       "        vertical-align: middle;\n",
       "    }\n",
       "\n",
       "    .dataframe tbody tr th {\n",
       "        vertical-align: top;\n",
       "    }\n",
       "\n",
       "    .dataframe thead th {\n",
       "        text-align: right;\n",
       "    }\n",
       "</style>\n",
       "<table border=\"1\" class=\"dataframe\">\n",
       "  <thead>\n",
       "    <tr style=\"text-align: right;\">\n",
       "      <th></th>\n",
       "      <th>Crop</th>\n",
       "      <th>Crop_Year</th>\n",
       "      <th>Season</th>\n",
       "      <th>State</th>\n",
       "      <th>Area</th>\n",
       "      <th>Annual_Rainfall</th>\n",
       "      <th>Fertilizer</th>\n",
       "      <th>Pesticide</th>\n",
       "      <th>Yield</th>\n",
       "    </tr>\n",
       "  </thead>\n",
       "  <tbody>\n",
       "    <tr>\n",
       "      <th>0</th>\n",
       "      <td>Arecanut</td>\n",
       "      <td>1997</td>\n",
       "      <td>Whole Year</td>\n",
       "      <td>Assam</td>\n",
       "      <td>73814.0</td>\n",
       "      <td>2051.4</td>\n",
       "      <td>7024878.38</td>\n",
       "      <td>22882.34</td>\n",
       "      <td>0.796087</td>\n",
       "    </tr>\n",
       "    <tr>\n",
       "      <th>1</th>\n",
       "      <td>Arhar/Tur</td>\n",
       "      <td>1997</td>\n",
       "      <td>Kharif</td>\n",
       "      <td>Assam</td>\n",
       "      <td>6637.0</td>\n",
       "      <td>2051.4</td>\n",
       "      <td>631643.29</td>\n",
       "      <td>2057.47</td>\n",
       "      <td>0.710435</td>\n",
       "    </tr>\n",
       "    <tr>\n",
       "      <th>2</th>\n",
       "      <td>Castor seed</td>\n",
       "      <td>1997</td>\n",
       "      <td>Kharif</td>\n",
       "      <td>Assam</td>\n",
       "      <td>796.0</td>\n",
       "      <td>2051.4</td>\n",
       "      <td>75755.32</td>\n",
       "      <td>246.76</td>\n",
       "      <td>0.238333</td>\n",
       "    </tr>\n",
       "    <tr>\n",
       "      <th>3</th>\n",
       "      <td>Coconut</td>\n",
       "      <td>1997</td>\n",
       "      <td>Whole Year</td>\n",
       "      <td>Assam</td>\n",
       "      <td>19656.0</td>\n",
       "      <td>2051.4</td>\n",
       "      <td>1870661.52</td>\n",
       "      <td>6093.36</td>\n",
       "      <td>5238.051739</td>\n",
       "    </tr>\n",
       "    <tr>\n",
       "      <th>4</th>\n",
       "      <td>Cotton(lint)</td>\n",
       "      <td>1997</td>\n",
       "      <td>Kharif</td>\n",
       "      <td>Assam</td>\n",
       "      <td>1739.0</td>\n",
       "      <td>2051.4</td>\n",
       "      <td>165500.63</td>\n",
       "      <td>539.09</td>\n",
       "      <td>0.420909</td>\n",
       "    </tr>\n",
       "  </tbody>\n",
       "</table>\n",
       "</div>"
      ],
      "text/plain": [
       "           Crop  Crop_Year       Season  State     Area  Annual_Rainfall  \\\n",
       "0      Arecanut       1997  Whole Year   Assam  73814.0           2051.4   \n",
       "1     Arhar/Tur       1997  Kharif       Assam   6637.0           2051.4   \n",
       "2   Castor seed       1997  Kharif       Assam    796.0           2051.4   \n",
       "3      Coconut        1997  Whole Year   Assam  19656.0           2051.4   \n",
       "4  Cotton(lint)       1997  Kharif       Assam   1739.0           2051.4   \n",
       "\n",
       "   Fertilizer  Pesticide        Yield  \n",
       "0  7024878.38   22882.34     0.796087  \n",
       "1   631643.29    2057.47     0.710435  \n",
       "2    75755.32     246.76     0.238333  \n",
       "3  1870661.52    6093.36  5238.051739  \n",
       "4   165500.63     539.09     0.420909  "
      ]
     },
     "execution_count": 1,
     "metadata": {},
     "output_type": "execute_result"
    }
   ],
   "source": [
    "import pandas as pd\n",
    "import numpy as np\n",
    "import matplotlib as plt\n",
    "\n",
    "data = pd.read_csv(\"crop_yield.csv\")\n",
    "data.head()\n"
   ]
  },
  {
   "cell_type": "code",
   "execution_count": 2,
   "id": "70857583",
   "metadata": {},
   "outputs": [
    {
     "data": {
      "text/plain": [
       "(19689, 9)"
      ]
     },
     "execution_count": 2,
     "metadata": {},
     "output_type": "execute_result"
    }
   ],
   "source": [
    "data.shape"
   ]
  },
  {
   "cell_type": "code",
   "execution_count": 3,
   "id": "ca747e9d",
   "metadata": {},
   "outputs": [
    {
     "data": {
      "text/plain": [
       "0"
      ]
     },
     "execution_count": 3,
     "metadata": {},
     "output_type": "execute_result"
    }
   ],
   "source": [
    "data.duplicated().sum()"
   ]
  },
  {
   "cell_type": "code",
   "execution_count": 4,
   "id": "58e39dd8",
   "metadata": {},
   "outputs": [
    {
     "data": {
      "text/plain": [
       "Crop               0\n",
       "Crop_Year          0\n",
       "Season             0\n",
       "State              0\n",
       "Area               0\n",
       "Annual_Rainfall    0\n",
       "Fertilizer         0\n",
       "Pesticide          0\n",
       "Yield              0\n",
       "dtype: int64"
      ]
     },
     "execution_count": 4,
     "metadata": {},
     "output_type": "execute_result"
    }
   ],
   "source": [
    "data.isnull().sum()"
   ]
  },
  {
   "cell_type": "code",
   "execution_count": 5,
   "id": "d96edca9",
   "metadata": {},
   "outputs": [
    {
     "name": "stdout",
     "output_type": "stream",
     "text": [
      "<class 'pandas.core.frame.DataFrame'>\n",
      "RangeIndex: 19689 entries, 0 to 19688\n",
      "Data columns (total 9 columns):\n",
      " #   Column           Non-Null Count  Dtype  \n",
      "---  ------           --------------  -----  \n",
      " 0   Crop             19689 non-null  object \n",
      " 1   Crop_Year        19689 non-null  int64  \n",
      " 2   Season           19689 non-null  object \n",
      " 3   State            19689 non-null  object \n",
      " 4   Area             19689 non-null  float64\n",
      " 5   Annual_Rainfall  19689 non-null  float64\n",
      " 6   Fertilizer       19689 non-null  float64\n",
      " 7   Pesticide        19689 non-null  float64\n",
      " 8   Yield            19689 non-null  float64\n",
      "dtypes: float64(5), int64(1), object(3)\n",
      "memory usage: 1.4+ MB\n"
     ]
    }
   ],
   "source": [
    "data.info()"
   ]
  },
  {
   "cell_type": "code",
   "execution_count": 6,
   "id": "f564f067",
   "metadata": {},
   "outputs": [],
   "source": [
    "State = data['State'].unique()\n",
    "yield_per_State = []\n",
    "for st in State:\n",
    "    yield_per_State.append(data[data['State']==st]['Yield'].sum())"
   ]
  },
  {
   "cell_type": "code",
   "execution_count": 7,
   "id": "3bb674ba",
   "metadata": {},
   "outputs": [
    {
     "data": {
      "text/plain": [
       "1574214.485762277"
      ]
     },
     "execution_count": 7,
     "metadata": {},
     "output_type": "execute_result"
    }
   ],
   "source": [
    "data['Yield'].sum()"
   ]
  },
  {
   "cell_type": "code",
   "execution_count": 8,
   "id": "34535339",
   "metadata": {},
   "outputs": [],
   "source": [
    "col = ['Crop','Crop_Year','Season','State','Area','Annual_Rainfall','Fertilizer','Pesticide','Yield']\n",
    "data = data[col]\n",
    "X = data.iloc[:, :-1]\n",
    "y = data.iloc[:, -1]"
   ]
  },
  {
   "cell_type": "code",
   "execution_count": 9,
   "id": "f4e196fb",
   "metadata": {},
   "outputs": [],
   "source": [
    "from sklearn.model_selection import train_test_split\n",
    "X_train, X_test, y_train, y_test = train_test_split(X, y, train_size=0.8, random_state=0, shuffle=True)"
   ]
  },
  {
   "cell_type": "code",
   "execution_count": 10,
   "id": "1b7541e4",
   "metadata": {},
   "outputs": [
    {
     "data": {
      "text/html": [
       "<div>\n",
       "<style scoped>\n",
       "    .dataframe tbody tr th:only-of-type {\n",
       "        vertical-align: middle;\n",
       "    }\n",
       "\n",
       "    .dataframe tbody tr th {\n",
       "        vertical-align: top;\n",
       "    }\n",
       "\n",
       "    .dataframe thead th {\n",
       "        text-align: right;\n",
       "    }\n",
       "</style>\n",
       "<table border=\"1\" class=\"dataframe\">\n",
       "  <thead>\n",
       "    <tr style=\"text-align: right;\">\n",
       "      <th></th>\n",
       "      <th>Crop</th>\n",
       "      <th>Crop_Year</th>\n",
       "      <th>Season</th>\n",
       "      <th>State</th>\n",
       "      <th>Area</th>\n",
       "      <th>Annual_Rainfall</th>\n",
       "      <th>Fertilizer</th>\n",
       "      <th>Pesticide</th>\n",
       "    </tr>\n",
       "  </thead>\n",
       "  <tbody>\n",
       "    <tr>\n",
       "      <th>1554</th>\n",
       "      <td>Other  Rabi pulses</td>\n",
       "      <td>2004</td>\n",
       "      <td>Rabi</td>\n",
       "      <td>Karnataka</td>\n",
       "      <td>23981.0</td>\n",
       "      <td>1117.7</td>\n",
       "      <td>2598101.54</td>\n",
       "      <td>5036.01</td>\n",
       "    </tr>\n",
       "  </tbody>\n",
       "</table>\n",
       "</div>"
      ],
      "text/plain": [
       "                    Crop  Crop_Year       Season      State     Area  \\\n",
       "1554  Other  Rabi pulses       2004  Rabi         Karnataka  23981.0   \n",
       "\n",
       "      Annual_Rainfall  Fertilizer  Pesticide  \n",
       "1554           1117.7  2598101.54    5036.01  "
      ]
     },
     "execution_count": 10,
     "metadata": {},
     "output_type": "execute_result"
    }
   ],
   "source": [
    "X_train.head(1)"
   ]
  },
  {
   "cell_type": "code",
   "execution_count": 11,
   "id": "ad120d26",
   "metadata": {},
   "outputs": [],
   "source": [
    "from sklearn.preprocessing import OneHotEncoder\n",
    "from sklearn.compose import ColumnTransformer\n",
    "from sklearn.preprocessing import StandardScaler\n",
    "ohe = OneHotEncoder(handle_unknown='ignore')\n",
    "scale = StandardScaler()\n",
    "\n",
    "preprocesser = ColumnTransformer(\n",
    "        transformers = [\n",
    "            ('StandardScale', scale, [1, 4, 5, 6, 7]),\n",
    "            ('OHE', ohe, [0, 2, 3]),\n",
    "        ],\n",
    "        remainder='passthrough'\n",
    ")"
   ]
  },
  {
   "cell_type": "code",
   "execution_count": 12,
   "id": "410956ee",
   "metadata": {},
   "outputs": [],
   "source": [
    "X_train1 = preprocesser.fit_transform(X_train)\n",
    "X_test1 = preprocesser.transform(X_test)"
   ]
  },
  {
   "cell_type": "code",
   "execution_count": 13,
   "id": "c1d1d671",
   "metadata": {},
   "outputs": [
    {
     "data": {
      "text/plain": [
       "array(['StandardScale__Crop_Year', 'StandardScale__Area',\n",
       "       'StandardScale__Annual_Rainfall', 'StandardScale__Fertilizer',\n",
       "       'StandardScale__Pesticide', 'OHE__Crop_Arecanut',\n",
       "       'OHE__Crop_Arhar/Tur', 'OHE__Crop_Bajra', 'OHE__Crop_Banana',\n",
       "       'OHE__Crop_Barley', 'OHE__Crop_Black pepper', 'OHE__Crop_Cardamom',\n",
       "       'OHE__Crop_Cashewnut', 'OHE__Crop_Castor seed',\n",
       "       'OHE__Crop_Coconut ', 'OHE__Crop_Coriander',\n",
       "       'OHE__Crop_Cotton(lint)', 'OHE__Crop_Cowpea(Lobia)',\n",
       "       'OHE__Crop_Dry chillies', 'OHE__Crop_Garlic', 'OHE__Crop_Ginger',\n",
       "       'OHE__Crop_Gram', 'OHE__Crop_Groundnut', 'OHE__Crop_Guar seed',\n",
       "       'OHE__Crop_Horse-gram', 'OHE__Crop_Jowar', 'OHE__Crop_Jute',\n",
       "       'OHE__Crop_Khesari', 'OHE__Crop_Linseed', 'OHE__Crop_Maize',\n",
       "       'OHE__Crop_Masoor', 'OHE__Crop_Mesta',\n",
       "       'OHE__Crop_Moong(Green Gram)', 'OHE__Crop_Moth',\n",
       "       'OHE__Crop_Niger seed', 'OHE__Crop_Oilseeds total',\n",
       "       'OHE__Crop_Onion', 'OHE__Crop_Other  Rabi pulses',\n",
       "       'OHE__Crop_Other Cereals', 'OHE__Crop_Other Kharif pulses',\n",
       "       'OHE__Crop_Other Summer Pulses', 'OHE__Crop_Peas & beans (Pulses)',\n",
       "       'OHE__Crop_Potato', 'OHE__Crop_Ragi',\n",
       "       'OHE__Crop_Rapeseed &Mustard', 'OHE__Crop_Rice',\n",
       "       'OHE__Crop_Safflower', 'OHE__Crop_Sannhamp', 'OHE__Crop_Sesamum',\n",
       "       'OHE__Crop_Small millets', 'OHE__Crop_Soyabean',\n",
       "       'OHE__Crop_Sugarcane', 'OHE__Crop_Sunflower',\n",
       "       'OHE__Crop_Sweet potato', 'OHE__Crop_Tapioca', 'OHE__Crop_Tobacco',\n",
       "       'OHE__Crop_Turmeric', 'OHE__Crop_Urad', 'OHE__Crop_Wheat',\n",
       "       'OHE__Crop_other oilseeds', 'OHE__Season_Autumn     ',\n",
       "       'OHE__Season_Kharif     ', 'OHE__Season_Rabi       ',\n",
       "       'OHE__Season_Summer     ', 'OHE__Season_Whole Year ',\n",
       "       'OHE__Season_Winter     ', 'OHE__State_Andhra Pradesh',\n",
       "       'OHE__State_Arunachal Pradesh', 'OHE__State_Assam',\n",
       "       'OHE__State_Bihar', 'OHE__State_Chhattisgarh', 'OHE__State_Delhi',\n",
       "       'OHE__State_Goa', 'OHE__State_Gujarat', 'OHE__State_Haryana',\n",
       "       'OHE__State_Himachal Pradesh', 'OHE__State_Jammu and Kashmir',\n",
       "       'OHE__State_Jharkhand', 'OHE__State_Karnataka',\n",
       "       'OHE__State_Kerala', 'OHE__State_Madhya Pradesh',\n",
       "       'OHE__State_Maharashtra', 'OHE__State_Manipur',\n",
       "       'OHE__State_Meghalaya', 'OHE__State_Mizoram',\n",
       "       'OHE__State_Nagaland', 'OHE__State_Odisha',\n",
       "       'OHE__State_Puducherry', 'OHE__State_Punjab', 'OHE__State_Sikkim',\n",
       "       'OHE__State_Tamil Nadu', 'OHE__State_Telangana',\n",
       "       'OHE__State_Tripura', 'OHE__State_Uttar Pradesh',\n",
       "       'OHE__State_Uttarakhand', 'OHE__State_West Bengal'], dtype=object)"
      ]
     },
     "execution_count": 13,
     "metadata": {},
     "output_type": "execute_result"
    }
   ],
   "source": [
    "preprocesser.get_feature_names_out(col[:-1])"
   ]
  },
  {
   "cell_type": "code",
   "execution_count": 14,
   "id": "ef2ede6f",
   "metadata": {},
   "outputs": [
    {
     "name": "stdout",
     "output_type": "stream",
     "text": [
      "lr : mean_ab_err : 58.127035195428405 score : 0.8469334337119425\n",
      "lss : mean_ab_err : 47.907274791183895 score : 0.844255159182976\n",
      "Rid : mean_ab_err : 58.45077835908863 score : 0.8459004611167156\n",
      "Dtr : mean_ab_err : 7.4450039461709 score : 0.9716294260529328\n"
     ]
    }
   ],
   "source": [
    "from sklearn.linear_model import LinearRegression,Lasso,Ridge\n",
    "from sklearn.neighbors import KNeighborsRegressor\n",
    "from sklearn.tree import DecisionTreeRegressor\n",
    "from sklearn.metrics import mean_absolute_error,r2_score\n",
    "\n",
    "\n",
    "models = {\n",
    "    'lr':LinearRegression(),\n",
    "    'lss':Lasso(),\n",
    "    'Rid':Ridge(),\n",
    "    'Dtr':DecisionTreeRegressor()\n",
    "}\n",
    "for name, md in models.items():\n",
    "    md.fit(X_train1,y_train)\n",
    "    y_pred = md.predict(X_test1)\n",
    "    \n",
    "    print(f\"{name} : mean_ab_err : {mean_absolute_error(y_test,y_pred)} score : {r2_score(y_test,y_pred)}\")"
   ]
  },
  {
   "cell_type": "code",
   "execution_count": 15,
   "id": "beac61d0",
   "metadata": {},
   "outputs": [
    {
     "data": {
      "text/plain": [
       "array([38.00357143,  5.51481482,  0.54615385, ...,  3.32695652,\n",
       "        0.75      ,  1.85538461])"
      ]
     },
     "execution_count": 15,
     "metadata": {},
     "output_type": "execute_result"
    }
   ],
   "source": [
    "# since in DecisionTreeRegressor we have hi accuracy and low mean absolute error we choose that\n",
    "\n",
    "dtr = DecisionTreeRegressor()\n",
    "dtr.fit(X_train1,y_train)\n",
    "dtr.predict(X_test1)"
   ]
  },
  {
   "cell_type": "code",
   "execution_count": 16,
   "id": "e61fbf21",
   "metadata": {},
   "outputs": [],
   "source": [
    "def prediction(Crop,Crop_Year,Season,State,Area,Annual_Rainfall,Fertilizer,Pesticide):\n",
    "    \n",
    "    features = np.array([[Crop,Crop_Year,Season,State,Area,Annual_Rainfall,Fertilizer,Pesticide]],dtype=object)\n",
    "    trans = preprocesser.transform(features)\n",
    "    predicted_yeild=dtr.predict(trans)\n",
    "    \n",
    "    return predicted_yeild[0]"
   ]
  },
  {
   "cell_type": "code",
   "execution_count": 19,
   "id": "b5db1663",
   "metadata": {},
   "outputs": [
    {
     "name": "stdout",
     "output_type": "stream",
     "text": [
      "7.47619048 quintal's per hector\n"
     ]
    },
    {
     "name": "stderr",
     "output_type": "stream",
     "text": [
      "/Users/mohammedroshan/anaconda3/lib/python3.10/site-packages/sklearn/base.py:439: UserWarning: X does not have valid feature names, but StandardScaler was fitted with feature names\n",
      "  warnings.warn(\n",
      "/Users/mohammedroshan/anaconda3/lib/python3.10/site-packages/sklearn/base.py:439: UserWarning: X does not have valid feature names, but OneHotEncoder was fitted with feature names\n",
      "  warnings.warn(\n"
     ]
    }
   ],
   "source": [
    "\n",
    "Crop,Crop_Year,Season,State,Area,Annual_Rainfall,Fertilizer,Pesticide='Coconut',20234,'Whole Year','Kerala',73814.0,2051.4,7024878.38,22882.34\n",
    "res = prediction(Crop,Crop_Year,Season,State,Area,Annual_Rainfall,Fertilizer,Pesticide)\n",
    "print(res*10,\"quintal's per hector\")"
   ]
  },
  {
   "cell_type": "code",
   "execution_count": 18,
   "id": "65e3543a",
   "metadata": {},
   "outputs": [],
   "source": [
    "import pickle\n",
    "pickle.dump(dtr,open('dtr.pkl','wb'))\n",
    "pickle.dump(preprocesser,open('preprocessor.pkl','wb'))"
   ]
  },
  {
   "cell_type": "code",
   "execution_count": null,
   "id": "60888e31",
   "metadata": {},
   "outputs": [],
   "source": []
  }
 ],
 "metadata": {
  "kernelspec": {
   "display_name": "Python 3 (ipykernel)",
   "language": "python",
   "name": "python3"
  },
  "language_info": {
   "codemirror_mode": {
    "name": "ipython",
    "version": 3
   },
   "file_extension": ".py",
   "mimetype": "text/x-python",
   "name": "python",
   "nbconvert_exporter": "python",
   "pygments_lexer": "ipython3",
   "version": "3.10.9"
  }
 },
 "nbformat": 4,
 "nbformat_minor": 5
}
